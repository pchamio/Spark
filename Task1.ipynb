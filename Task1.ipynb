{
 "cells": [
  {
   "cell_type": "markdown",
   "metadata": {
    "ExecuteTime": {
     "end_time": "2020-12-03T22:49:58.693935Z",
     "start_time": "2020-12-03T22:49:58.633234Z"
    }
   },
   "source": [
    "# Linear regression using Python Scikit Learn\n",
    "\n",
    "(Level - Beginner)\n",
    "\n",
    "* Predict the percentage of an student based on the no. of study hours.\n",
    "* This is a simple linear regression task as it involves just 2 variables.\n",
    "* You can use R, Python, SAS Enterprise Miner or any other tool\n",
    "* Data can be found at http://bit.ly/w-data\n",
    "* What will be predicted score if a student studies for 9.25 hrs/ day?\n",
    "* Sample Solution : https://bit.ly/2HxiGGJ\n",
    "* Task submission:\n",
    "    1. Host the code on GitHub Repository (public). Record the code and output in a video. Post the video on YouTube\n",
    "    2. Share links of code (GitHub) and video (YouTube) as a post on YOUR LinkedIn profile, not TSF Network.\n",
    "    3. Submit the LinkedIn link in Task Submission Form when shared.\n",
    "    \n",
    "## Import data and libraries"
   ]
  },
  {
   "cell_type": "code",
   "execution_count": 1,
   "metadata": {
    "ExecuteTime": {
     "end_time": "2020-12-05T08:13:30.404093Z",
     "start_time": "2020-12-05T08:13:27.290237Z"
    }
   },
   "outputs": [],
   "source": [
    "# import all the library required\n",
    "import pandas as pd\n",
    "import numpy as np\n",
    "from matplotlib import pyplot as plt\n",
    "from sklearn.linear_model import LinearRegression\n",
    "from sklearn.model_selection import train_test_split\n",
    "from sklearn.metrics import mean_absolute_error, mean_squared_error\n",
    "import math  "
   ]
  },
  {
   "cell_type": "markdown",
   "metadata": {},
   "source": [
    "The dataset can be found at http://bit.ly/w-data. Therefore, the first step is to read this dataset from the given link. Then show part of the dataset as the following: "
   ]
  },
  {
   "cell_type": "code",
   "execution_count": 2,
   "metadata": {
    "ExecuteTime": {
     "end_time": "2020-12-05T08:13:31.261031Z",
     "start_time": "2020-12-05T08:13:30.413265Z"
    }
   },
   "outputs": [
    {
     "data": {
      "text/html": [
       "<div>\n",
       "<style scoped>\n",
       "    .dataframe tbody tr th:only-of-type {\n",
       "        vertical-align: middle;\n",
       "    }\n",
       "\n",
       "    .dataframe tbody tr th {\n",
       "        vertical-align: top;\n",
       "    }\n",
       "\n",
       "    .dataframe thead th {\n",
       "        text-align: right;\n",
       "    }\n",
       "</style>\n",
       "<table border=\"1\" class=\"dataframe\">\n",
       "  <thead>\n",
       "    <tr style=\"text-align: right;\">\n",
       "      <th></th>\n",
       "      <th>Hours</th>\n",
       "      <th>Scores</th>\n",
       "    </tr>\n",
       "  </thead>\n",
       "  <tbody>\n",
       "    <tr>\n",
       "      <th>0</th>\n",
       "      <td>2.5</td>\n",
       "      <td>21</td>\n",
       "    </tr>\n",
       "    <tr>\n",
       "      <th>1</th>\n",
       "      <td>5.1</td>\n",
       "      <td>47</td>\n",
       "    </tr>\n",
       "    <tr>\n",
       "      <th>2</th>\n",
       "      <td>3.2</td>\n",
       "      <td>27</td>\n",
       "    </tr>\n",
       "    <tr>\n",
       "      <th>3</th>\n",
       "      <td>8.5</td>\n",
       "      <td>75</td>\n",
       "    </tr>\n",
       "    <tr>\n",
       "      <th>4</th>\n",
       "      <td>3.5</td>\n",
       "      <td>30</td>\n",
       "    </tr>\n",
       "    <tr>\n",
       "      <th>5</th>\n",
       "      <td>1.5</td>\n",
       "      <td>20</td>\n",
       "    </tr>\n",
       "    <tr>\n",
       "      <th>6</th>\n",
       "      <td>9.2</td>\n",
       "      <td>88</td>\n",
       "    </tr>\n",
       "    <tr>\n",
       "      <th>7</th>\n",
       "      <td>5.5</td>\n",
       "      <td>60</td>\n",
       "    </tr>\n",
       "    <tr>\n",
       "      <th>8</th>\n",
       "      <td>8.3</td>\n",
       "      <td>81</td>\n",
       "    </tr>\n",
       "    <tr>\n",
       "      <th>9</th>\n",
       "      <td>2.7</td>\n",
       "      <td>25</td>\n",
       "    </tr>\n",
       "  </tbody>\n",
       "</table>\n",
       "</div>"
      ],
      "text/plain": [
       "   Hours  Scores\n",
       "0    2.5      21\n",
       "1    5.1      47\n",
       "2    3.2      27\n",
       "3    8.5      75\n",
       "4    3.5      30\n",
       "5    1.5      20\n",
       "6    9.2      88\n",
       "7    5.5      60\n",
       "8    8.3      81\n",
       "9    2.7      25"
      ]
     },
     "execution_count": 2,
     "metadata": {},
     "output_type": "execute_result"
    }
   ],
   "source": [
    "# import data from the link\n",
    "link = \"http://bit.ly/w-data\"\n",
    "score = pd.read_csv(link)\n",
    "\n",
    "# show the dataset\n",
    "score.head(10)"
   ]
  },
  {
   "cell_type": "markdown",
   "metadata": {},
   "source": [
    "Prepare data by arranging the dataset into two sets:\n",
    "\n",
    "* **X**: **Hours** as predictor \n",
    "* **y**: **Scores** as response variable"
   ]
  },
  {
   "cell_type": "code",
   "execution_count": 3,
   "metadata": {
    "ExecuteTime": {
     "end_time": "2020-12-05T08:13:31.279621Z",
     "start_time": "2020-12-05T08:13:31.264055Z"
    }
   },
   "outputs": [],
   "source": [
    "# split dataset using numpy.split \n",
    "X, y = np.split(score,[-1],axis=1)"
   ]
  },
  {
   "cell_type": "markdown",
   "metadata": {},
   "source": [
    "## Linear Regression\n",
    "\n",
    "To build a linear regression model, create two subsets from the data: \n",
    "* Training set \n",
    "* Testing set\n",
    "\n",
    "After that fit model on training set and make prediction on the testing set. \n",
    "In order to split the data, import the train_test_split from sub-library ***model_selection*** of Sklearn.  "
   ]
  },
  {
   "cell_type": "code",
   "execution_count": 4,
   "metadata": {
    "ExecuteTime": {
     "end_time": "2020-12-05T08:13:31.309423Z",
     "start_time": "2020-12-05T08:13:31.286219Z"
    }
   },
   "outputs": [],
   "source": [
    "# create training and testing vars \n",
    "X_train, X_test, y_train, y_test = train_test_split(X, y, test_size=0.30, random_state=42)"
   ]
  },
  {
   "cell_type": "markdown",
   "metadata": {},
   "source": [
    "We can see that the ***test_size*** in the function is '0.30' indicating the percentage of data that is held for testing which means 70 percent for training and 30 percent for testing. Another parameter is ***random state*** controls the shuffling applied to the data before applying the split.\n",
    "\n",
    "Linear regression presents the relationship between X and Y in the form of\n",
    "$$Y = m * X + b$$\n",
    "Next we will train the linear regression model using the training set."
   ]
  },
  {
   "cell_type": "code",
   "execution_count": 6,
   "metadata": {
    "ExecuteTime": {
     "end_time": "2020-12-05T08:14:11.801162Z",
     "start_time": "2020-12-05T08:14:11.765696Z"
    }
   },
   "outputs": [
    {
     "name": "stdout",
     "output_type": "stream",
     "text": [
      "Coefficients: \n",
      " [[9.71054094]]\n",
      "Intercept: \n",
      " [2.79419668]\n"
     ]
    }
   ],
   "source": [
    "# create linear regression object called 'regr'\n",
    "regr = LinearRegression()\n",
    "\n",
    "# train the model using the training sets\n",
    "regr.fit(X_train, y_train)\n",
    "\n",
    "# the coefficients\n",
    "print('Coefficients: \\n', regr.coef_)\n",
    "print('Intercept: \\n', regr.intercept_)"
   ]
  },
  {
   "cell_type": "markdown",
   "metadata": {},
   "source": [
    "As you can see, slope (m) or coefficients and intercept (b) are as above. All together it represents a predicted line.\n",
    "## Plot predicted line"
   ]
  },
  {
   "cell_type": "code",
   "execution_count": 7,
   "metadata": {
    "ExecuteTime": {
     "end_time": "2020-12-05T08:14:15.294687Z",
     "start_time": "2020-12-05T08:14:14.864413Z"
    }
   },
   "outputs": [
    {
     "data": {
      "image/png": "[encoded data removed]",
      "text/plain": [
       "<Figure size 432x288 with 1 Axes>"
      ]
     },
     "metadata": {
      "needs_background": "light"
     },
     "output_type": "display_data"
    }
   ],
   "source": [
    "# plotting the regression line\n",
    "line = regr.coef_ * X + regr.intercept_\n",
    "\n",
    "## The line / model\n",
    "plt.scatter(X, y)\n",
    "plt.xlabel('Hours')\n",
    "plt.ylabel('Scores')\n",
    "plt.plot(X, line);\n",
    "plt.show()"
   ]
  },
  {
   "cell_type": "markdown",
   "metadata": {},
   "source": [
    "From the figure, the actual data scatter around the line which is a good fit for the model.\n",
    "## Make prediction\n",
    "Now we will make prediction using testing set by feeding *X_test* into the trained model and compare the result with *y_test*"
   ]
  },
  {
   "cell_type": "code",
   "execution_count": 8,
   "metadata": {
    "ExecuteTime": {
     "end_time": "2020-12-05T08:14:15.721248Z",
     "start_time": "2020-12-05T08:14:15.695836Z"
    },
    "scrolled": true
   },
   "outputs": [
    {
     "data": {
      "text/plain": [
       "array([[83.39168645],\n",
       "       [27.07054902],\n",
       "       [27.07054902],\n",
       "       [69.79692914],\n",
       "       [60.0863882 ],\n",
       "       [29.0126572 ],\n",
       "       [34.83898177],\n",
       "       [52.31795545]])"
      ]
     },
     "execution_count": 8,
     "metadata": {},
     "output_type": "execute_result"
    }
   ],
   "source": [
    "# make predictions using the testing set\n",
    "y_pred = regr.predict(X_test)\n",
    "y_pred"
   ]
  },
  {
   "cell_type": "markdown",
   "metadata": {},
   "source": [
    "Compare the actual data and predicted data"
   ]
  },
  {
   "cell_type": "code",
   "execution_count": 9,
   "metadata": {
    "ExecuteTime": {
     "end_time": "2020-12-05T08:14:16.581878Z",
     "start_time": "2020-12-05T08:14:16.544157Z"
    },
    "scrolled": true
   },
   "outputs": [
    {
     "data": {
      "text/html": [
       "<div>\n",
       "<style scoped>\n",
       "    .dataframe tbody tr th:only-of-type {\n",
       "        vertical-align: middle;\n",
       "    }\n",
       "\n",
       "    .dataframe tbody tr th {\n",
       "        vertical-align: top;\n",
       "    }\n",
       "\n",
       "    .dataframe thead th {\n",
       "        text-align: right;\n",
       "    }\n",
       "</style>\n",
       "<table border=\"1\" class=\"dataframe\">\n",
       "  <thead>\n",
       "    <tr style=\"text-align: right;\">\n",
       "      <th></th>\n",
       "      <th>Scores</th>\n",
       "      <th>Predictions</th>\n",
       "    </tr>\n",
       "  </thead>\n",
       "  <tbody>\n",
       "    <tr>\n",
       "      <th>0</th>\n",
       "      <td>81.0</td>\n",
       "      <td>83.391686</td>\n",
       "    </tr>\n",
       "    <tr>\n",
       "      <th>1</th>\n",
       "      <td>30.0</td>\n",
       "      <td>27.070549</td>\n",
       "    </tr>\n",
       "    <tr>\n",
       "      <th>2</th>\n",
       "      <td>21.0</td>\n",
       "      <td>27.070549</td>\n",
       "    </tr>\n",
       "    <tr>\n",
       "      <th>3</th>\n",
       "      <td>76.0</td>\n",
       "      <td>69.796929</td>\n",
       "    </tr>\n",
       "    <tr>\n",
       "      <th>4</th>\n",
       "      <td>62.0</td>\n",
       "      <td>60.086388</td>\n",
       "    </tr>\n",
       "    <tr>\n",
       "      <th>5</th>\n",
       "      <td>25.0</td>\n",
       "      <td>29.012657</td>\n",
       "    </tr>\n",
       "    <tr>\n",
       "      <th>6</th>\n",
       "      <td>42.0</td>\n",
       "      <td>34.838982</td>\n",
       "    </tr>\n",
       "    <tr>\n",
       "      <th>7</th>\n",
       "      <td>47.0</td>\n",
       "      <td>52.317955</td>\n",
       "    </tr>\n",
       "  </tbody>\n",
       "</table>\n",
       "</div>"
      ],
      "text/plain": [
       "   Scores  Predictions\n",
       "0    81.0    83.391686\n",
       "1    30.0    27.070549\n",
       "2    21.0    27.070549\n",
       "3    76.0    69.796929\n",
       "4    62.0    60.086388\n",
       "5    25.0    29.012657\n",
       "6    42.0    34.838982\n",
       "7    47.0    52.317955"
      ]
     },
     "execution_count": 9,
     "metadata": {},
     "output_type": "execute_result"
    }
   ],
   "source": [
    "# reset the index of testing set to combine in the dataframe\n",
    "y_test = y_test.reset_index(drop=True)\n",
    "y_pred = pd.DataFrame(y_pred, columns=[\"Predictions\"])\n",
    "# Place the DataFrames side by side\n",
    "compare = pd.concat([y_test,y_pred], axis=1)\n",
    "compare"
   ]
  },
  {
   "cell_type": "markdown",
   "metadata": {},
   "source": [
    "It is time to predict a new data point given 9.25 hours per day "
   ]
  },
  {
   "cell_type": "code",
   "execution_count": 10,
   "metadata": {
    "ExecuteTime": {
     "end_time": "2020-12-05T08:14:17.026679Z",
     "start_time": "2020-12-05T08:14:17.015117Z"
    }
   },
   "outputs": [
    {
     "name": "stdout",
     "output_type": "stream",
     "text": [
      "The predicted score is 92.61670033840096\n"
     ]
    }
   ],
   "source": [
    "# predict new data point using trained model\n",
    "hours = 9.25\n",
    "pred_score = regr.predict([[hours]])\n",
    "print('The predicted score is', pred_score[0][0])"
   ]
  },
  {
   "cell_type": "markdown",
   "metadata": {
    "ExecuteTime": {
     "end_time": "2020-12-05T05:55:54.842358Z",
     "start_time": "2020-12-05T05:55:54.832928Z"
    }
   },
   "source": [
    "## Measure the accuarcy\n",
    "* MAE (Mean absolute error)\n",
    "$$MAE = \\frac{1}{N} \\sum_{i=1}^n |y_i - \\hat{y_i}|$$\n",
    "* RMSE (Root mean square error)\n",
    "$$RMSE = \\sqrt{\\frac{1}{N} \\sum_{i=1}^n {(y_i - \\hat{y_i})}^2}$$"
   ]
  },
  {
   "cell_type": "code",
   "execution_count": 11,
   "metadata": {
    "ExecuteTime": {
     "end_time": "2020-12-05T08:14:17.887683Z",
     "start_time": "2020-12-05T08:14:17.861230Z"
    }
   },
   "outputs": [
    {
     "name": "stdout",
     "output_type": "stream",
     "text": [
      "Mean Absolute Error is 4.499999999999998\n",
      "Root Mean Square Error is 4.859985351228103\n"
     ]
    }
   ],
   "source": [
    "# calculate MAE and RMSE\n",
    "print('Mean Absolute Error is',mean_absolute_error(y_test, y_pred))\n",
    "print('Root Mean Square Error is',math.sqrt(mean_squared_error(y_test, y_pred)))"
   ]
  },
  {
   "cell_type": "markdown",
   "metadata": {},
   "source": [
    "Conclusion\n",
    "* There are some variation in the error as RMSE is more than MAE. \n",
    "* The average difference between predicted value and actual value is around 4.5 or MAE.\n",
    "* Since the differences between MAE and RMSE is small, large errors are not likely to present."
   ]
  },
  {
   "cell_type": "code",
   "execution_count": null,
   "metadata": {},
   "outputs": [],
   "source": []
  }
 ],
 "metadata": {
  "kernelspec": {
   "display_name": "Python 3",
   "language": "python",
   "name": "python3"
  },
  "language_info": {
   "codemirror_mode": {
    "name": "ipython",
    "version": 3
   },
   "file_extension": ".py",
   "mimetype": "text/x-python",
   "name": "python",
   "nbconvert_exporter": "python",
   "pygments_lexer": "ipython3",
   "version": "3.7.6"
  },
  "latex_envs": {
   "LaTeX_envs_menu_present": true,
   "autoclose": false,
   "autocomplete": true,
   "bibliofile": "biblio.bib",
   "cite_by": "apalike",
   "current_citInitial": 1,
   "eqLabelWithNumbers": true,
   "eqNumInitial": 1,
   "hotkeys": {
    "equation": "Ctrl-E",
    "itemize": "Ctrl-I"
   },
   "labels_anchors": false,
   "latex_user_defs": false,
   "report_style_numbering": false,
   "user_envs_cfg": false
  },
  "toc": {
   "base_numbering": 1,
   "nav_menu": {},
   "number_sections": true,
   "sideBar": true,
   "skip_h1_title": false,
   "title_cell": "Table of Contents",
   "title_sidebar": "Contents",
   "toc_cell": false,
   "toc_position": {},
   "toc_section_display": true,
   "toc_window_display": false
  }
 },
 "nbformat": 4,
 "nbformat_minor": 4
}
