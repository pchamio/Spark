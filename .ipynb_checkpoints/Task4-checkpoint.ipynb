{
 "cells": [
  {
   "cell_type": "markdown",
   "metadata": {},
   "source": [
    "# Exploratory Data Analysis - Terrorism\n",
    "\n",
    "(Level - Intermediate)\n",
    "\n",
    "* Perform ‘Exploratory Data Analysis’ on dataset ‘Global Terrorism’\n",
    "* As a security/defense analyst, try to find out the hot zone of terrorism.\n",
    "* What all security issues and insights you can derive by EDA?\n",
    "* You can choose any of the tool of your choice (Python/R/Tableau/PowerBI/Excel/SAP/SAS)\n",
    "* Dataset: https://bit.ly/2TK5Xn5\n",
    "* Intermediate Level - Create storyboards. Screen-record along with your audio explaining the charts and interpretations. Use images.\n",
    "* Task submission:\n",
    "    1. Create the dashboards and/or storyboard and record it\n",
    "    2. Upload the recording on Youtube, share the link on LinkedIn\n",
    "    3. Submit LinkedIn post link in Task Submission Form when shared"
   ]
  },
  {
   "cell_type": "code",
   "execution_count": null,
   "metadata": {},
   "outputs": [],
   "source": []
  }
 ],
 "metadata": {
  "kernelspec": {
   "display_name": "Python 3",
   "language": "python",
   "name": "python3"
  },
  "language_info": {
   "codemirror_mode": {
    "name": "ipython",
    "version": 3
   },
   "file_extension": ".py",
   "mimetype": "text/x-python",
   "name": "python",
   "nbconvert_exporter": "python",
   "pygments_lexer": "ipython3",
   "version": "3.7.6"
  },
  "latex_envs": {
   "LaTeX_envs_menu_present": true,
   "autoclose": false,
   "autocomplete": true,
   "bibliofile": "biblio.bib",
   "cite_by": "apalike",
   "current_citInitial": 1,
   "eqLabelWithNumbers": true,
   "eqNumInitial": 1,
   "hotkeys": {
    "equation": "Ctrl-E",
    "itemize": "Ctrl-I"
   },
   "labels_anchors": false,
   "latex_user_defs": false,
   "report_style_numbering": false,
   "user_envs_cfg": false
  },
  "toc": {
   "base_numbering": 1,
   "nav_menu": {},
   "number_sections": true,
   "sideBar": true,
   "skip_h1_title": false,
   "title_cell": "Table of Contents",
   "title_sidebar": "Contents",
   "toc_cell": false,
   "toc_position": {},
   "toc_section_display": true,
   "toc_window_display": false
  }
 },
 "nbformat": 4,
 "nbformat_minor": 4
}
