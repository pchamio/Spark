{
 "cells": [
  {
   "cell_type": "markdown",
   "metadata": {},
   "source": [
    "# Prediction using Unsupervised ML\n",
    "\n",
    "(Level - Beginner)\n",
    "\n",
    "* From the given ‘Iris’ dataset, predict the optimum number of clusters and represent it visually.\n",
    "* Use R or Python or perform this task\n",
    "* Dataset : https://bit.ly/3kXTdox\n",
    "* Sample Solution : https://bit.ly/3cGyP8j\n",
    "* Task submission:\n",
    "    1. Host the code on GitHub Repository (public). Record the code and output in a video. Post the video on YouTube\n",
    "    2. Share links of code (GitHub) and video (YouTube) as a post on YOUR LinkedIn profile\n",
    "    3. Submit the LinkedIn link in Task Submission Form when shared.\n",
    "    \n",
    "## Import data and libraries"
   ]
  },
  {
   "cell_type": "code",
   "execution_count": 1,
   "metadata": {
    "ExecuteTime": {
     "end_time": "2020-12-06T11:31:01.220991Z",
     "start_time": "2020-12-06T11:30:59.617655Z"
    }
   },
   "outputs": [],
   "source": [
    "# import all the library required\n",
    "import pandas as pd\n",
    "import matplotlib.pyplot as plt\n",
    "from sklearn.datasets import load_iris\n",
    "from sklearn.cluster import KMeans"
   ]
  },
  {
   "cell_type": "markdown",
   "metadata": {},
   "source": [
    "The dataset is 'iris dataset' which can be imported from the scikitlearn directly through ***load_iris()*** or check the [document](https://scikit-learn.org/stable/modules/generated/sklearn.datasets.load_iris.html). The dataset is as followed:\n"
   ]
  },
  {
   "cell_type": "code",
   "execution_count": 2,
   "metadata": {
    "ExecuteTime": {
     "end_time": "2020-12-06T11:31:01.236949Z",
     "start_time": "2020-12-06T11:31:01.221982Z"
    }
   },
   "outputs": [
    {
     "data": {
      "text/html": [
       "<div>\n",
       "<style scoped>\n",
       "    .dataframe tbody tr th:only-of-type {\n",
       "        vertical-align: middle;\n",
       "    }\n",
       "\n",
       "    .dataframe tbody tr th {\n",
       "        vertical-align: top;\n",
       "    }\n",
       "\n",
       "    .dataframe thead th {\n",
       "        text-align: right;\n",
       "    }\n",
       "</style>\n",
       "<table border=\"1\" class=\"dataframe\">\n",
       "  <thead>\n",
       "    <tr style=\"text-align: right;\">\n",
       "      <th></th>\n",
       "      <th>sepal length (cm)</th>\n",
       "      <th>sepal width (cm)</th>\n",
       "      <th>petal length (cm)</th>\n",
       "      <th>petal width (cm)</th>\n",
       "    </tr>\n",
       "  </thead>\n",
       "  <tbody>\n",
       "    <tr>\n",
       "      <th>0</th>\n",
       "      <td>5.1</td>\n",
       "      <td>3.5</td>\n",
       "      <td>1.4</td>\n",
       "      <td>0.2</td>\n",
       "    </tr>\n",
       "    <tr>\n",
       "      <th>1</th>\n",
       "      <td>4.9</td>\n",
       "      <td>3.0</td>\n",
       "      <td>1.4</td>\n",
       "      <td>0.2</td>\n",
       "    </tr>\n",
       "    <tr>\n",
       "      <th>2</th>\n",
       "      <td>4.7</td>\n",
       "      <td>3.2</td>\n",
       "      <td>1.3</td>\n",
       "      <td>0.2</td>\n",
       "    </tr>\n",
       "    <tr>\n",
       "      <th>3</th>\n",
       "      <td>4.6</td>\n",
       "      <td>3.1</td>\n",
       "      <td>1.5</td>\n",
       "      <td>0.2</td>\n",
       "    </tr>\n",
       "    <tr>\n",
       "      <th>4</th>\n",
       "      <td>5.0</td>\n",
       "      <td>3.6</td>\n",
       "      <td>1.4</td>\n",
       "      <td>0.2</td>\n",
       "    </tr>\n",
       "  </tbody>\n",
       "</table>\n",
       "</div>"
      ],
      "text/plain": [
       "   sepal length (cm)  sepal width (cm)  petal length (cm)  petal width (cm)\n",
       "0                5.1               3.5                1.4               0.2\n",
       "1                4.9               3.0                1.4               0.2\n",
       "2                4.7               3.2                1.3               0.2\n",
       "3                4.6               3.1                1.5               0.2\n",
       "4                5.0               3.6                1.4               0.2"
      ]
     },
     "execution_count": 2,
     "metadata": {},
     "output_type": "execute_result"
    }
   ],
   "source": [
    "# import some data to play with\n",
    "iris = load_iris()\n",
    "# put in a dataframe\n",
    "df = pd.DataFrame(iris.data, columns=iris.feature_names)\n",
    "# show head of the data\n",
    "df.head()"
   ]
  },
  {
   "cell_type": "markdown",
   "metadata": {
    "ExecuteTime": {
     "end_time": "2020-12-05T06:52:54.136035Z",
     "start_time": "2020-12-05T06:52:54.118576Z"
    }
   },
   "source": [
    "## Find optimum k\n",
    "Finding an optimum number of cluster to perform partition clustering such as K-means can be done by many methods. One of the methods is called **'elbow'** which is the point where ***total within-cluster sum of square (WSS)*** of the graph is bended like an elbow considered to be the proper number of cluster.\n",
    "\n",
    "We will apply elbow method to kmeans using [sklearn](https://scikit-learn.org/stable/modules/generated/sklearn.cluster.KMeans.html) by starting from training kmeans model with each k(number of cluster) and capture the total sum square distance of samples to their closest cluster center. After that, we will plot a graph to find the proper number of cluster"
   ]
  },
  {
   "cell_type": "code",
   "execution_count": 3,
   "metadata": {
    "ExecuteTime": {
     "end_time": "2020-12-06T11:31:01.553111Z",
     "start_time": "2020-12-06T11:31:01.237929Z"
    }
   },
   "outputs": [
    {
     "data": {
      "image/png": "[encoded data removed]",
      "text/plain": [
       "<Figure size 432x288 with 1 Axes>"
      ]
     },
     "metadata": {
      "needs_background": "light"
     },
     "output_type": "display_data"
    }
   ],
   "source": [
    "# select value of all data column \n",
    "x = df.iloc[:, [0, 1, 2, 3]].values\n",
    "\n",
    "# finding the optimum number of clusters for k-means classification\n",
    "# create a list to keep the WSS value\n",
    "wcss = []\n",
    "\n",
    "# use range to iterate number of k from 1 to 10\n",
    "for i in range(1, 10):\n",
    "    # build kmeans model\n",
    "    kmeans = KMeans(n_clusters = i, init = 'k-means++', max_iter = 300, n_init = 10, random_state = 0)\n",
    "    # fit the model\n",
    "    kmeans.fit(x)\n",
    "    # add total sum square of each k using inertia_ attribute\n",
    "    wcss.append(kmeans.inertia_)\n",
    "    \n",
    "# plotting the results to a line graph using elbow method\n",
    "plt.plot(range(1, 10), wcss)\n",
    "plt.title('The elbow method')\n",
    "plt.xlabel('Number of clusters')\n",
    "plt.ylabel('WCSS') # within cluster sum of squares\n",
    "plt.show()"
   ]
  },
  {
   "cell_type": "markdown",
   "metadata": {},
   "source": [
    "Now you can see where the elbow is from the graph above, the optimum number of cluster k is 3 where total sum of square almost drop as a straight line in every iteration. After we got the number of cluster, next we will train kmeans model with this optimum number and plot the graph accordingly.\n",
    "## Plot the graph"
   ]
  },
  {
   "cell_type": "code",
   "execution_count": 4,
   "metadata": {
    "ExecuteTime": {
     "end_time": "2020-12-06T11:31:01.577021Z",
     "start_time": "2020-12-06T11:31:01.554097Z"
    }
   },
   "outputs": [],
   "source": [
    "# kmeans clustering with 3 cluster\n",
    "kmeans = KMeans(n_clusters = 3, init = 'k-means++', max_iter = 300, n_init = 10, random_state = 0)\n",
    "# fit and predict the cluster of data using fit_predict (equivalent to fit function following by predict function)\n",
    "pred_cluster = kmeans.fit_predict(x)"
   ]
  },
  {
   "cell_type": "markdown",
   "metadata": {},
   "source": [
    "Plotting the graph showing each cluster in different colors and the centroid of each cluster"
   ]
  },
  {
   "cell_type": "code",
   "execution_count": 5,
   "metadata": {
    "ExecuteTime": {
     "end_time": "2020-12-06T11:31:01.717561Z",
     "start_time": "2020-12-06T11:31:01.578057Z"
    }
   },
   "outputs": [
    {
     "data": {
      "text/plain": [
       "<matplotlib.legend.Legend at 0x1af077c6288>"
      ]
     },
     "execution_count": 5,
     "metadata": {},
     "output_type": "execute_result"
    },
    {
     "data": {
      "image/png": "[encoded data removed]",
      "text/plain": [
       "<Figure size 432x288 with 1 Axes>"
      ]
     },
     "metadata": {
      "needs_background": "light"
     },
     "output_type": "display_data"
    }
   ],
   "source": [
    "# plotting the clusters\n",
    "plt.scatter(x[pred_cluster == 0, 0], x[pred_cluster == 0, 1], s = 100, c = 'blue', label = 'Iris-setosa')\n",
    "plt.scatter(x[pred_cluster == 1, 0], x[pred_cluster == 1, 1], s = 100, c = 'red', label = 'Iris-versicolour')\n",
    "plt.scatter(x[pred_cluster == 2, 0], x[pred_cluster == 2, 1], s = 100, c = 'green', label = 'Iris-virginica')\n",
    "\n",
    "# plotting the centroids of the clusters\n",
    "plt.scatter(kmeans.cluster_centers_[:, 0], kmeans.cluster_centers_[:,1], s = 100, c = 'yellow', label = 'Centroids')\n",
    "\n",
    "plt.legend()"
   ]
  },
  {
   "cell_type": "code",
   "execution_count": null,
   "metadata": {},
   "outputs": [],
   "source": []
  },
  {
   "cell_type": "code",
   "execution_count": null,
   "metadata": {},
   "outputs": [],
   "source": []
  }
 ],
 "metadata": {
  "kernelspec": {
   "display_name": "Python 3",
   "language": "python",
   "name": "python3"
  },
  "language_info": {
   "codemirror_mode": {
    "name": "ipython",
    "version": 3
   },
   "file_extension": ".py",
   "mimetype": "text/x-python",
   "name": "python",
   "nbconvert_exporter": "python",
   "pygments_lexer": "ipython3",
   "version": "3.7.6"
  },
  "latex_envs": {
   "LaTeX_envs_menu_present": true,
   "autoclose": false,
   "autocomplete": true,
   "bibliofile": "biblio.bib",
   "cite_by": "apalike",
   "current_citInitial": 1,
   "eqLabelWithNumbers": true,
   "eqNumInitial": 1,
   "hotkeys": {
    "equation": "Ctrl-E",
    "itemize": "Ctrl-I"
   },
   "labels_anchors": false,
   "latex_user_defs": false,
   "report_style_numbering": false,
   "user_envs_cfg": false
  },
  "toc": {
   "base_numbering": 1,
   "nav_menu": {},
   "number_sections": true,
   "sideBar": true,
   "skip_h1_title": false,
   "title_cell": "Table of Contents",
   "title_sidebar": "Contents",
   "toc_cell": false,
   "toc_position": {},
   "toc_section_display": true,
   "toc_window_display": false
  }
 },
 "nbformat": 4,
 "nbformat_minor": 4
}
