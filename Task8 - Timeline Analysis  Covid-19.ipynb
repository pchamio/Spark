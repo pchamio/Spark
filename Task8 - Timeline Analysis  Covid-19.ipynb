{
 "cells": [
  {
   "cell_type": "markdown",
   "metadata": {
    "ExecuteTime": {
     "end_time": "2020-12-15T11:02:21.940905Z",
     "start_time": "2020-12-15T11:02:21.898Z"
    }
   },
   "source": [
    "# Timeline Analysis : Covid-19\n",
    "\n",
    "(Level - Advanced)\n",
    "\n",
    "● Create a storyboard showing spread of Covid-19 cases in your country or any\n",
    "region (Asia, Europe, BRICS etc) using Tableau, Power BI or SAP\n",
    "● Use animation, timeline and annotations to create attractive and interactive\n",
    "dashboards and story\n",
    "● Identify interesting patterns and possible reasons helping Covid-19 spread with\n",
    "basic as well as advanced charts\n",
    "● Screen-record the completed storyboard along with your audio explaining the\n",
    "charts and giving recommendations.\n",
    "● Dataset: Daily updated .csv file on https://bit.ly/30d2gdi\n",
    "● Task submission:\n",
    "1. Create the dashboards and/or storyboard and record it\n",
    "2. Upload the recording on Youtube, share the link on LinkedIn\n",
    "3. Submit LinkedIn post link in Task Submission Form when shared"
   ]
  },
  {
   "cell_type": "code",
   "execution_count": null,
   "metadata": {},
   "outputs": [],
   "source": []
  }
 ],
 "metadata": {
  "kernelspec": {
   "display_name": "R",
   "language": "R",
   "name": "ir"
  },
  "language_info": {
   "codemirror_mode": "r",
   "file_extension": ".r",
   "mimetype": "text/x-r-source",
   "name": "R",
   "pygments_lexer": "r",
   "version": "3.6.1"
  },
  "latex_envs": {
   "LaTeX_envs_menu_present": true,
   "autoclose": false,
   "autocomplete": true,
   "bibliofile": "biblio.bib",
   "cite_by": "apalike",
   "current_citInitial": 1,
   "eqLabelWithNumbers": true,
   "eqNumInitial": 1,
   "hotkeys": {
    "equation": "Ctrl-E",
    "itemize": "Ctrl-I"
   },
   "labels_anchors": false,
   "latex_user_defs": false,
   "report_style_numbering": false,
   "user_envs_cfg": false
  },
  "toc": {
   "base_numbering": 1,
   "nav_menu": {},
   "number_sections": true,
   "sideBar": true,
   "skip_h1_title": false,
   "title_cell": "Table of Contents",
   "title_sidebar": "Contents",
   "toc_cell": false,
   "toc_position": {},
   "toc_section_display": true,
   "toc_window_display": false
  }
 },
 "nbformat": 4,
 "nbformat_minor": 4
}
